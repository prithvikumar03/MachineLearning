{
 "cells": [
  {
   "cell_type": "markdown",
   "metadata": {},
   "source": [
    "# Bike Sharing Count Prediction(Hour)\n",
    "\n",
    "This workbook provides the template for the final project. \n",
    "\n",
    "## Instructions\n",
    "- Work individually or in pairs\n",
    "- Each team is to complete 1 copy of this template.\n",
    "  - Complete all sections.\n",
    "  - Feel free to include supporting material / slides / documents as needed.\n",
    "- At the end of the project, you will get 15 minutes to present this workbook to the class.\n",
    "\n",
    "### Submission Instructions\n",
    "- Submit the .ipynb with the Output cells showing the results\n",
    "  - Naming convention:\n",
    "  ```\n",
    "      <name1>-<name2>-<project_short_name>.ipynb\n",
    "  ```\n",
    "- If you provide your own datasets, include the data with your .ipynb"
   ]
  },
  {
   "cell_type": "code",
   "execution_count": 248,
   "metadata": {},
   "outputs": [],
   "source": [
    "import numpy as np\n",
    "import pandas as pd\n",
    "import matplotlib.pyplot as plt\n",
    "\n",
    "from sklearn.decomposition import PCA\n",
    "\n",
    "from sklearn.model_selection import train_test_split\n",
    "from sklearn.preprocessing import StandardScaler\n",
    "\n",
    "from sklearn.linear_model import LogisticRegression, SGDClassifier\n",
    "from sklearn.metrics import classification_report, confusion_matrix, roc_curve, auc\n",
    "from sklearn.model_selection import learning_curve"
   ]
  },
  {
   "cell_type": "markdown",
   "metadata": {},
   "source": [
    "## Section 0: Team Members\n",
    "- Member 1\n",
    "- Member 2"
   ]
  },
  {
   "cell_type": "markdown",
   "metadata": {},
   "source": [
    "## Section 1: Project Title\n",
    "\n",
    "- The title should 1 sentence that describes the goal of this project.\n",
    "- Example: Clustering analysis of COE premiums and quotas"
   ]
  },
  {
   "cell_type": "markdown",
   "metadata": {},
   "source": [
    "## Section 2: Project Definition\n",
    "\n",
    "### Goals\n",
    "\n",
    "Describe the goal of this project.\n",
    "\n",
    "Example:\n",
    "The goal of this project is to determine if the bid quotas and premiums can be > used to predict the vehicle category.\n",
    "\n",
    "Important:\n",
    "- If this is your first project, keep the project definition as simple as possible. \n",
    "- As a rule of thumb, pick something that can be completed in 2-3 days. There is always more you can add to it if you finish early. \n",
    "- If you are not sure, use the workshop problems as a reference.\n",
    "\n",
    "### Dataset\n",
    "\n",
    "Briefly describe the source(s) of data you are using.\n",
    "- Provide the URL to the data source.\n",
    "- If you are providing your own data set, include the data with your project submission.\n",
    "- You can find sample datasets from:\n",
    "  - http://archive.ics.uci.edu/ml/datasets.html\n",
    "  - http://data.gov.sg/\n",
    "\n",
    "Example:\n",
    "\n",
    "We will use the dataset from: https://data.gov.sg/dataset/coe-bidding-results\n",
    "\n",
    "#### Format: CSV\n",
    "\n",
    "#### Columns:\n",
    " \n",
    "|Name|Type|Unit of Measure|Description|\n",
    "|--|--|--|--|\n",
    "|month|Datetime, YYYY-MM|none|date range: Jan 1, 2010 to Mar 31, 2018|\n",
    "|bidding_no|Numeric|No. of Bids|Number of Bids|\n",
    "|vehicle_class|Text|none|Vehicle category: A to E|\n",
    "|quota|Numeric|No. of Bids|Number of Quota|\n",
    "|bids_success|Numeric|No. of Bids|Number of Successful Bids|\n",
    "|bids_received|Numeric|No. of Bids|Number of Bids Received|\n",
    "|premium|Numeric|S$|COE premium|\n",
    "\n",
    "### Tasks\n",
    "\n",
    "List the tasks you will perform. \n",
    "\n",
    "Example:\n",
    " \n",
    "1. Process the dataset to convert strings into labels.\n",
    "2. Shuffle and split into train and test sets\n",
    "3. Train a clustering algorithm, using Gaussian Mixture Model with 5 components, where each component is a vehicle category.\n",
    "4. Compute the metrics for the algorithm.\n",
    "5. Perform analysis for possible improvements."
   ]
  },
  {
   "cell_type": "markdown",
   "metadata": {},
   "source": [
    "## Section 3: Prepare Dataset\n",
    "\n",
    "Write your code below to prepare the dataset using pandas"
   ]
  },
  {
   "cell_type": "code",
   "execution_count": 249,
   "metadata": {},
   "outputs": [
    {
     "data": {
      "text/html": [
       "<div>\n",
       "<style scoped>\n",
       "    .dataframe tbody tr th:only-of-type {\n",
       "        vertical-align: middle;\n",
       "    }\n",
       "\n",
       "    .dataframe tbody tr th {\n",
       "        vertical-align: top;\n",
       "    }\n",
       "\n",
       "    .dataframe thead th {\n",
       "        text-align: right;\n",
       "    }\n",
       "</style>\n",
       "<table border=\"1\" class=\"dataframe\">\n",
       "  <thead>\n",
       "    <tr style=\"text-align: right;\">\n",
       "      <th></th>\n",
       "      <th>instant</th>\n",
       "      <th>dteday</th>\n",
       "      <th>season</th>\n",
       "      <th>yr</th>\n",
       "      <th>mnth</th>\n",
       "      <th>hr</th>\n",
       "      <th>holiday</th>\n",
       "      <th>weekday</th>\n",
       "      <th>workingday</th>\n",
       "      <th>weathersit</th>\n",
       "      <th>temp</th>\n",
       "      <th>atemp</th>\n",
       "      <th>hum</th>\n",
       "      <th>windspeed</th>\n",
       "      <th>casual</th>\n",
       "      <th>registered</th>\n",
       "      <th>cnt</th>\n",
       "    </tr>\n",
       "  </thead>\n",
       "  <tbody>\n",
       "    <tr>\n",
       "      <th>0</th>\n",
       "      <td>1</td>\n",
       "      <td>1/1/2011</td>\n",
       "      <td>1</td>\n",
       "      <td>0</td>\n",
       "      <td>1</td>\n",
       "      <td>0</td>\n",
       "      <td>0</td>\n",
       "      <td>6</td>\n",
       "      <td>0</td>\n",
       "      <td>1</td>\n",
       "      <td>0.24</td>\n",
       "      <td>0.2879</td>\n",
       "      <td>0.81</td>\n",
       "      <td>0.0</td>\n",
       "      <td>3</td>\n",
       "      <td>13</td>\n",
       "      <td>16</td>\n",
       "    </tr>\n",
       "    <tr>\n",
       "      <th>1</th>\n",
       "      <td>2</td>\n",
       "      <td>1/1/2011</td>\n",
       "      <td>1</td>\n",
       "      <td>0</td>\n",
       "      <td>1</td>\n",
       "      <td>1</td>\n",
       "      <td>0</td>\n",
       "      <td>6</td>\n",
       "      <td>0</td>\n",
       "      <td>1</td>\n",
       "      <td>0.22</td>\n",
       "      <td>0.2727</td>\n",
       "      <td>0.80</td>\n",
       "      <td>0.0</td>\n",
       "      <td>8</td>\n",
       "      <td>32</td>\n",
       "      <td>40</td>\n",
       "    </tr>\n",
       "    <tr>\n",
       "      <th>2</th>\n",
       "      <td>3</td>\n",
       "      <td>1/1/2011</td>\n",
       "      <td>1</td>\n",
       "      <td>0</td>\n",
       "      <td>1</td>\n",
       "      <td>2</td>\n",
       "      <td>0</td>\n",
       "      <td>6</td>\n",
       "      <td>0</td>\n",
       "      <td>1</td>\n",
       "      <td>0.22</td>\n",
       "      <td>0.2727</td>\n",
       "      <td>0.80</td>\n",
       "      <td>0.0</td>\n",
       "      <td>5</td>\n",
       "      <td>27</td>\n",
       "      <td>32</td>\n",
       "    </tr>\n",
       "    <tr>\n",
       "      <th>3</th>\n",
       "      <td>4</td>\n",
       "      <td>1/1/2011</td>\n",
       "      <td>1</td>\n",
       "      <td>0</td>\n",
       "      <td>1</td>\n",
       "      <td>3</td>\n",
       "      <td>0</td>\n",
       "      <td>6</td>\n",
       "      <td>0</td>\n",
       "      <td>1</td>\n",
       "      <td>0.24</td>\n",
       "      <td>0.2879</td>\n",
       "      <td>0.75</td>\n",
       "      <td>0.0</td>\n",
       "      <td>3</td>\n",
       "      <td>10</td>\n",
       "      <td>13</td>\n",
       "    </tr>\n",
       "    <tr>\n",
       "      <th>4</th>\n",
       "      <td>5</td>\n",
       "      <td>1/1/2011</td>\n",
       "      <td>1</td>\n",
       "      <td>0</td>\n",
       "      <td>1</td>\n",
       "      <td>4</td>\n",
       "      <td>0</td>\n",
       "      <td>6</td>\n",
       "      <td>0</td>\n",
       "      <td>1</td>\n",
       "      <td>0.24</td>\n",
       "      <td>0.2879</td>\n",
       "      <td>0.75</td>\n",
       "      <td>0.0</td>\n",
       "      <td>0</td>\n",
       "      <td>1</td>\n",
       "      <td>1</td>\n",
       "    </tr>\n",
       "  </tbody>\n",
       "</table>\n",
       "</div>"
      ],
      "text/plain": [
       "   instant    dteday  season  yr  mnth  hr  holiday  weekday  workingday  \\\n",
       "0        1  1/1/2011       1   0     1   0        0        6           0   \n",
       "1        2  1/1/2011       1   0     1   1        0        6           0   \n",
       "2        3  1/1/2011       1   0     1   2        0        6           0   \n",
       "3        4  1/1/2011       1   0     1   3        0        6           0   \n",
       "4        5  1/1/2011       1   0     1   4        0        6           0   \n",
       "\n",
       "   weathersit  temp   atemp   hum  windspeed  casual  registered  cnt  \n",
       "0           1  0.24  0.2879  0.81        0.0       3          13   16  \n",
       "1           1  0.22  0.2727  0.80        0.0       8          32   40  \n",
       "2           1  0.22  0.2727  0.80        0.0       5          27   32  \n",
       "3           1  0.24  0.2879  0.75        0.0       3          10   13  \n",
       "4           1  0.24  0.2879  0.75        0.0       0           1    1  "
      ]
     },
     "execution_count": 249,
     "metadata": {},
     "output_type": "execute_result"
    }
   ],
   "source": [
    "df = pd.read_csv(\"C:\\\\courses\\\\data\\\\bike-sharing\\\\hour.csv\", parse_dates=True, encoding='latin-1')\n",
    "#df=df1[(df1['hr']>=0) & (df1['hr']<4)]\n",
    "df.head()"
   ]
  },
  {
   "cell_type": "code",
   "execution_count": 250,
   "metadata": {
    "scrolled": true
   },
   "outputs": [
    {
     "data": {
      "text/html": [
       "<div>\n",
       "<style scoped>\n",
       "    .dataframe tbody tr th:only-of-type {\n",
       "        vertical-align: middle;\n",
       "    }\n",
       "\n",
       "    .dataframe tbody tr th {\n",
       "        vertical-align: top;\n",
       "    }\n",
       "\n",
       "    .dataframe thead th {\n",
       "        text-align: right;\n",
       "    }\n",
       "</style>\n",
       "<table border=\"1\" class=\"dataframe\">\n",
       "  <thead>\n",
       "    <tr style=\"text-align: right;\">\n",
       "      <th></th>\n",
       "      <th>instant</th>\n",
       "      <th>season</th>\n",
       "      <th>yr</th>\n",
       "      <th>mnth</th>\n",
       "      <th>hr</th>\n",
       "      <th>holiday</th>\n",
       "      <th>weekday</th>\n",
       "      <th>workingday</th>\n",
       "      <th>weathersit</th>\n",
       "      <th>temp</th>\n",
       "      <th>atemp</th>\n",
       "      <th>hum</th>\n",
       "      <th>windspeed</th>\n",
       "      <th>casual</th>\n",
       "      <th>registered</th>\n",
       "      <th>cnt</th>\n",
       "    </tr>\n",
       "  </thead>\n",
       "  <tbody>\n",
       "    <tr>\n",
       "      <th>count</th>\n",
       "      <td>17370.000000</td>\n",
       "      <td>17370.000000</td>\n",
       "      <td>17370.000000</td>\n",
       "      <td>17370.000000</td>\n",
       "      <td>17370.000000</td>\n",
       "      <td>17370.000000</td>\n",
       "      <td>17370.000000</td>\n",
       "      <td>17370.000000</td>\n",
       "      <td>17370.000000</td>\n",
       "      <td>17370.000000</td>\n",
       "      <td>17370.000000</td>\n",
       "      <td>17370.000000</td>\n",
       "      <td>17370.000000</td>\n",
       "      <td>17370.000000</td>\n",
       "      <td>17370.000000</td>\n",
       "      <td>17370.000000</td>\n",
       "    </tr>\n",
       "    <tr>\n",
       "      <th>mean</th>\n",
       "      <td>8685.500000</td>\n",
       "      <td>2.501957</td>\n",
       "      <td>0.502533</td>\n",
       "      <td>6.538169</td>\n",
       "      <td>11.547323</td>\n",
       "      <td>0.028728</td>\n",
       "      <td>3.003742</td>\n",
       "      <td>0.682671</td>\n",
       "      <td>1.425273</td>\n",
       "      <td>0.496987</td>\n",
       "      <td>0.475770</td>\n",
       "      <td>0.627187</td>\n",
       "      <td>0.190102</td>\n",
       "      <td>35.681405</td>\n",
       "      <td>153.796891</td>\n",
       "      <td>189.478296</td>\n",
       "    </tr>\n",
       "    <tr>\n",
       "      <th>std</th>\n",
       "      <td>5014.431423</td>\n",
       "      <td>1.106938</td>\n",
       "      <td>0.500008</td>\n",
       "      <td>3.438639</td>\n",
       "      <td>6.914260</td>\n",
       "      <td>0.167045</td>\n",
       "      <td>2.005990</td>\n",
       "      <td>0.465450</td>\n",
       "      <td>0.639422</td>\n",
       "      <td>0.192548</td>\n",
       "      <td>0.171841</td>\n",
       "      <td>0.192954</td>\n",
       "      <td>0.122346</td>\n",
       "      <td>49.314213</td>\n",
       "      <td>151.368927</td>\n",
       "      <td>181.403466</td>\n",
       "    </tr>\n",
       "    <tr>\n",
       "      <th>min</th>\n",
       "      <td>1.000000</td>\n",
       "      <td>1.000000</td>\n",
       "      <td>0.000000</td>\n",
       "      <td>1.000000</td>\n",
       "      <td>0.000000</td>\n",
       "      <td>0.000000</td>\n",
       "      <td>0.000000</td>\n",
       "      <td>0.000000</td>\n",
       "      <td>1.000000</td>\n",
       "      <td>0.020000</td>\n",
       "      <td>0.000000</td>\n",
       "      <td>0.000000</td>\n",
       "      <td>0.000000</td>\n",
       "      <td>0.000000</td>\n",
       "      <td>0.000000</td>\n",
       "      <td>1.000000</td>\n",
       "    </tr>\n",
       "    <tr>\n",
       "      <th>25%</th>\n",
       "      <td>4343.250000</td>\n",
       "      <td>2.000000</td>\n",
       "      <td>0.000000</td>\n",
       "      <td>4.000000</td>\n",
       "      <td>6.000000</td>\n",
       "      <td>0.000000</td>\n",
       "      <td>1.000000</td>\n",
       "      <td>0.000000</td>\n",
       "      <td>1.000000</td>\n",
       "      <td>0.340000</td>\n",
       "      <td>0.333300</td>\n",
       "      <td>0.480000</td>\n",
       "      <td>0.104500</td>\n",
       "      <td>4.000000</td>\n",
       "      <td>34.000000</td>\n",
       "      <td>40.000000</td>\n",
       "    </tr>\n",
       "    <tr>\n",
       "      <th>50%</th>\n",
       "      <td>8685.500000</td>\n",
       "      <td>3.000000</td>\n",
       "      <td>1.000000</td>\n",
       "      <td>7.000000</td>\n",
       "      <td>12.000000</td>\n",
       "      <td>0.000000</td>\n",
       "      <td>3.000000</td>\n",
       "      <td>1.000000</td>\n",
       "      <td>1.000000</td>\n",
       "      <td>0.500000</td>\n",
       "      <td>0.484800</td>\n",
       "      <td>0.630000</td>\n",
       "      <td>0.194000</td>\n",
       "      <td>17.000000</td>\n",
       "      <td>115.000000</td>\n",
       "      <td>142.000000</td>\n",
       "    </tr>\n",
       "    <tr>\n",
       "      <th>75%</th>\n",
       "      <td>13027.750000</td>\n",
       "      <td>3.000000</td>\n",
       "      <td>1.000000</td>\n",
       "      <td>10.000000</td>\n",
       "      <td>18.000000</td>\n",
       "      <td>0.000000</td>\n",
       "      <td>5.000000</td>\n",
       "      <td>1.000000</td>\n",
       "      <td>2.000000</td>\n",
       "      <td>0.660000</td>\n",
       "      <td>0.621200</td>\n",
       "      <td>0.780000</td>\n",
       "      <td>0.253700</td>\n",
       "      <td>48.000000</td>\n",
       "      <td>220.000000</td>\n",
       "      <td>281.000000</td>\n",
       "    </tr>\n",
       "    <tr>\n",
       "      <th>max</th>\n",
       "      <td>17370.000000</td>\n",
       "      <td>4.000000</td>\n",
       "      <td>1.000000</td>\n",
       "      <td>12.000000</td>\n",
       "      <td>23.000000</td>\n",
       "      <td>1.000000</td>\n",
       "      <td>6.000000</td>\n",
       "      <td>1.000000</td>\n",
       "      <td>4.000000</td>\n",
       "      <td>1.000000</td>\n",
       "      <td>1.000000</td>\n",
       "      <td>1.000000</td>\n",
       "      <td>0.850700</td>\n",
       "      <td>367.000000</td>\n",
       "      <td>886.000000</td>\n",
       "      <td>977.000000</td>\n",
       "    </tr>\n",
       "  </tbody>\n",
       "</table>\n",
       "</div>"
      ],
      "text/plain": [
       "            instant        season            yr          mnth            hr  \\\n",
       "count  17370.000000  17370.000000  17370.000000  17370.000000  17370.000000   \n",
       "mean    8685.500000      2.501957      0.502533      6.538169     11.547323   \n",
       "std     5014.431423      1.106938      0.500008      3.438639      6.914260   \n",
       "min        1.000000      1.000000      0.000000      1.000000      0.000000   \n",
       "25%     4343.250000      2.000000      0.000000      4.000000      6.000000   \n",
       "50%     8685.500000      3.000000      1.000000      7.000000     12.000000   \n",
       "75%    13027.750000      3.000000      1.000000     10.000000     18.000000   \n",
       "max    17370.000000      4.000000      1.000000     12.000000     23.000000   \n",
       "\n",
       "            holiday       weekday    workingday    weathersit          temp  \\\n",
       "count  17370.000000  17370.000000  17370.000000  17370.000000  17370.000000   \n",
       "mean       0.028728      3.003742      0.682671      1.425273      0.496987   \n",
       "std        0.167045      2.005990      0.465450      0.639422      0.192548   \n",
       "min        0.000000      0.000000      0.000000      1.000000      0.020000   \n",
       "25%        0.000000      1.000000      0.000000      1.000000      0.340000   \n",
       "50%        0.000000      3.000000      1.000000      1.000000      0.500000   \n",
       "75%        0.000000      5.000000      1.000000      2.000000      0.660000   \n",
       "max        1.000000      6.000000      1.000000      4.000000      1.000000   \n",
       "\n",
       "              atemp           hum     windspeed        casual    registered  \\\n",
       "count  17370.000000  17370.000000  17370.000000  17370.000000  17370.000000   \n",
       "mean       0.475770      0.627187      0.190102     35.681405    153.796891   \n",
       "std        0.171841      0.192954      0.122346     49.314213    151.368927   \n",
       "min        0.000000      0.000000      0.000000      0.000000      0.000000   \n",
       "25%        0.333300      0.480000      0.104500      4.000000     34.000000   \n",
       "50%        0.484800      0.630000      0.194000     17.000000    115.000000   \n",
       "75%        0.621200      0.780000      0.253700     48.000000    220.000000   \n",
       "max        1.000000      1.000000      0.850700    367.000000    886.000000   \n",
       "\n",
       "                cnt  \n",
       "count  17370.000000  \n",
       "mean     189.478296  \n",
       "std      181.403466  \n",
       "min        1.000000  \n",
       "25%       40.000000  \n",
       "50%      142.000000  \n",
       "75%      281.000000  \n",
       "max      977.000000  "
      ]
     },
     "execution_count": 250,
     "metadata": {},
     "output_type": "execute_result"
    }
   ],
   "source": [
    "df.describe()"
   ]
  },
  {
   "cell_type": "code",
   "execution_count": 251,
   "metadata": {},
   "outputs": [],
   "source": [
    "# Convert dates (Optional)\n",
    "#df['dteday'] = pd.to_datetime(df['dteday'], format='%Y/%m/%d')\n",
    "#df['dteday']\n",
    "df.drop(['instant'],axis=1,inplace=True)\n",
    "#df.index = df['instant']\n"
   ]
  },
  {
   "cell_type": "code",
   "execution_count": 252,
   "metadata": {},
   "outputs": [
    {
     "data": {
      "text/plain": [
       "Index(['dteday', 'season', 'yr', 'mnth', 'hr', 'holiday', 'weekday',\n",
       "       'workingday', 'weathersit', 'temp', 'atemp', 'hum', 'windspeed',\n",
       "       'casual', 'registered', 'cnt'],\n",
       "      dtype='object')"
      ]
     },
     "execution_count": 252,
     "metadata": {},
     "output_type": "execute_result"
    }
   ],
   "source": [
    "df.columns"
   ]
  },
  {
   "cell_type": "code",
   "execution_count": 253,
   "metadata": {},
   "outputs": [
    {
     "name": "stdout",
     "output_type": "stream",
     "text": [
      "['hr', 'workingday', 'temp', 'hum', 'windspeed']\n",
      "['mnth', 'workingday', 'temp', 'atemp', 'hum', 'windspeed', 'casual']\n"
     ]
    }
   ],
   "source": [
    "#casual_columns=['season',\n",
    "#       'workingday', 'temp', 'atemp', 'hum', 'windspeed']\n",
    "casual_columns=['hr','workingday', 'temp', 'hum', 'windspeed']\n",
    "print(casual_columns)\n",
    "regd_columns=['mnth',\n",
    "       'workingday', 'temp', 'atemp', 'hum', 'windspeed','casual']\n",
    "print(regd_columns)"
   ]
  },
  {
   "cell_type": "code",
   "execution_count": 254,
   "metadata": {},
   "outputs": [],
   "source": [
    "\n",
    "#df.drop(columns='No',inplace=True)\n",
    "#X = df.loc[:,['season', 'yr', 'mnth', 'holiday', 'weekday',\n",
    "       #'workingday', 'weathersit', 'temp', 'atemp', 'hum', 'windspeed',\n",
    "       #'casual', 'registered']]\n",
    "\n",
    "#X = df.loc[:,['season', 'mnth', 'holiday', 'weekday',\n",
    "       #'workingday', 'weathersit', 'temp', 'atemp', 'hum', 'windspeed']]\n",
    "\n",
    "\n",
    "df2 = df.loc[:,casual_columns]\n",
    "\n",
    "#[df[(df['hr']>=0) & (df['hr']<4)],df[(df['hr']>=4) & (df['hr']<9)],df[(df['hr']>=9) & (df['hr']<20)]\n",
    "#     ,df[(df['hr']>=20)]]\n",
    "\n",
    "X = [df2[(df['hr']>=0) & (df['hr']<4)],df2[(df['hr']>=4) & (df['hr']<9)],df2[(df['hr']>=9) & (df['hr']<20)]\n",
    "     ,df2[(df['hr']>=20)]]\n",
    "\n",
    "\n",
    "#print(X.shape)\n",
    "#print(df.describe())\n",
    "\n",
    "\n",
    "#print(X.columns)\n",
    "\n",
    "df3 = df.casual\n",
    "y_casual = [df3[(df['hr']>=0) & (df['hr']<4)],df3[(df['hr']>=4) & (df['hr']<9)],df3[(df['hr']>=9) & (df['hr']<20)]\n",
    "     ,df3[(df['hr']>=20)]]\n",
    "df4 = df.registered\n",
    "y_regd = [df4[(df['hr']>=0) & (df['hr']<4)],df4[(df['hr']>=4) & (df['hr']<9)],df4[(df['hr']>=9) & (df['hr']<20)]\n",
    "     ,df4[(df['hr']>=20)]]"
   ]
  },
  {
   "cell_type": "markdown",
   "metadata": {},
   "source": [
    "temp = df2[(df['hr']>=0) & (df['hr']<4)]"
   ]
  },
  {
   "cell_type": "markdown",
   "metadata": {},
   "source": [
    "pca = PCA(n_components=2)\n",
    "X_2d = pca.fit_transform(X[0])\n",
    "X_2d.shape\n",
    "fig, ax = plt.subplots()\n",
    "ax.scatter(X_2d[:, 0], X_2d[:, 1], c=y_casual)\n",
    "plt.show()"
   ]
  },
  {
   "cell_type": "code",
   "execution_count": null,
   "metadata": {},
   "outputs": [],
   "source": []
  },
  {
   "cell_type": "markdown",
   "metadata": {},
   "source": [
    "from pandas.plotting import scatter_matrix\n",
    "#df = pd.DataFrame(np.random.randn(1000, 4), columns=['a', 'b', 'c', 'd'])\n",
    "scatter_matrix(df, alpha=0.2, figsize=(15, 15), diagonal='kde')\n",
    "plt.show()"
   ]
  },
  {
   "cell_type": "markdown",
   "metadata": {},
   "source": [
    "## Section 4: Select Features\n",
    "\n",
    "Write your code below to create X_train, X_test, y_train, y_test"
   ]
  },
  {
   "cell_type": "code",
   "execution_count": 255,
   "metadata": {},
   "outputs": [],
   "source": [
    "#X_train, X_test, y_train_casual, y_test_casual = train_test_split(X, y_casual,random_state=42)"
   ]
  },
  {
   "cell_type": "code",
   "execution_count": 256,
   "metadata": {},
   "outputs": [
    {
     "name": "stdout",
     "output_type": "stream",
     "text": [
      "4\n",
      "4\n",
      "(2860, 5)\n",
      "(3591, 5)\n",
      "(8009, 5)\n",
      "(2910, 5)\n"
     ]
    }
   ],
   "source": [
    "print(len(X))\n",
    "print(len(y_casual))\n",
    "for val in X:\n",
    "    print(val.shape)"
   ]
  },
  {
   "cell_type": "code",
   "execution_count": 257,
   "metadata": {},
   "outputs": [
    {
     "name": "stdout",
     "output_type": "stream",
     "text": [
      "(2145, 5)\n",
      "(2145, 5)\n",
      "(2145, 5)\n",
      "(2145, 5)\n",
      "4\n"
     ]
    }
   ],
   "source": [
    "i=0\n",
    "X_train = []\n",
    "X_test = []\n",
    "y_train_casual = []\n",
    "y_test_casual = []\n",
    "for val in X:\n",
    "    a, b, c, d = train_test_split(val, y_casual[i],random_state=42)\n",
    "    X_train.append(a)\n",
    "    X_test.append(b)\n",
    "    y_train_casual.append(c)\n",
    "    y_test_casual.append(d)\n",
    "    i+=1\n",
    "    print(X_train[0].shape)\n",
    "    \n",
    "print(len(X_train))"
   ]
  },
  {
   "cell_type": "code",
   "execution_count": 258,
   "metadata": {},
   "outputs": [
    {
     "name": "stdout",
     "output_type": "stream",
     "text": [
      "4\n"
     ]
    }
   ],
   "source": [
    "print(len(X_train))"
   ]
  },
  {
   "cell_type": "code",
   "execution_count": 259,
   "metadata": {},
   "outputs": [
    {
     "name": "stdout",
     "output_type": "stream",
     "text": [
      "2145\n",
      "2693\n",
      "6006\n",
      "2182\n",
      "4\n",
      "4\n",
      "4\n",
      "4\n"
     ]
    },
    {
     "name": "stderr",
     "output_type": "stream",
     "text": [
      "C:\\Users\\prith\\AppData\\Local\\Continuum\\anaconda3\\envs\\mldds02\\lib\\site-packages\\sklearn\\utils\\validation.py:475: DataConversionWarning: Data with input dtype int64 was converted to float64 by StandardScaler.\n",
      "  warnings.warn(msg, DataConversionWarning)\n"
     ]
    }
   ],
   "source": [
    "scaler_X = [StandardScaler(), StandardScaler(), StandardScaler(), StandardScaler()]\n",
    "\n",
    "#i = 0;\n",
    "#while i<4:\n",
    " #   scaler_X.fit(X_train[i])\n",
    " #   a1 = scaler_X.transform(X_train[i])\n",
    " #   X_scaled_train.append(a1)\n",
    " #   i+=1\n",
    "X_scaled_train = []\n",
    "for val, scaler in zip(X_train,scaler_X):\n",
    "    scaler.fit(val)\n",
    "    X_scaled_train.append(scaler.transform(val))\n",
    "    print(len(val))\n",
    "    \n",
    "X_scaled_test = []\n",
    "for testval, scaler in zip(X_test,scaler_X):    \n",
    "    X_scaled_test.append(scaler.transform(testval))\n",
    "\n",
    "# 2. scale both y series\n",
    "scaler_y = [StandardScaler(), StandardScaler(), StandardScaler(), StandardScaler()]\n",
    "#y_scaled_train = scaler_y.transform(y_train.values.reshape(-1, 1))\n",
    "#y_scaled_test = scaler_y.transform(y_test.values.reshape(-1, 1))\n",
    "\n",
    "#Without scaling Y\n",
    "y_scaled_casual_train = []\n",
    "for val, scaler in zip(y_train_casual, scaler_y):\n",
    "    scaler.fit(val.values.reshape(-1, 1))\n",
    "    y_scaled_casual_train.append(scaler.transform(val.values.reshape(-1, 1)))\n",
    "\n",
    "#y_scaled_casual_train = y_train_casual.values\n",
    "#y_scaled_casual_test = y_test_casual.values\n",
    "#y_scaled_casual_train[0]\n",
    "\n",
    "y_scaled_casual_test = []\n",
    "for testval, scaler in zip(y_test_casual,scaler_y):\n",
    "    y_scaled_casual_test.append(scaler.transform(testval.values.reshape(-1, 1)))\n",
    "\n",
    "print(len(X_scaled_train))\n",
    "print(len(X_scaled_test))\n",
    "print(len(y_scaled_casual_train))\n",
    "print(len(y_scaled_casual_test))"
   ]
  },
  {
   "cell_type": "code",
   "execution_count": null,
   "metadata": {},
   "outputs": [],
   "source": []
  },
  {
   "cell_type": "markdown",
   "metadata": {},
   "source": [
    "X_regd = df.loc[:,regd_columns]"
   ]
  },
  {
   "cell_type": "markdown",
   "metadata": {},
   "source": [
    "X_train_regd, X_test_regd, y_train_regd, y_test_regd = train_test_split(X_regd, y_regd,random_state=42)"
   ]
  },
  {
   "cell_type": "markdown",
   "metadata": {},
   "source": [
    "scaler_X_regd = StandardScaler()\n",
    "scaler_X_regd.fit(X_train_regd)\n",
    "X_scaled_train_regd = scaler_X_regd.transform(X_train_regd)\n",
    "X_scaled_test_regd = scaler_X_regd.transform(X_test_regd)\n",
    "print(X_scaled_train_regd.shape)\n",
    "print(X_scaled_test_regd.shape)\n",
    "\n",
    "#Without scaling Y\n",
    "#scaler_y.fit(y_train.values.reshape(-1, 1))\n",
    "#print(y_train.values.reshape(-1,1).shape)\n",
    "scaler_y_regd = StandardScaler()\n",
    "scaler_y_regd.fit(y_train_regd.values.reshape(-1, 1))\n",
    "y_scaled_regd_train = scaler_y_regd.transform(y_train_regd.values.reshape(-1, 1))\n",
    "y_scaled_regd_test = scaler_y_regd.transform(y_test_regd.values.reshape(-1, 1))\n",
    "y_scaled_regd_train[0]\n",
    "print(y_scaled_regd_train.shape)\n",
    "print(y_scaled_regd_test.shape)"
   ]
  },
  {
   "cell_type": "markdown",
   "metadata": {},
   "source": [
    "## Section 5: Train the algorithm(s)\n",
    "\n",
    "Write your code below to initialize and train the algorithm(s)"
   ]
  },
  {
   "cell_type": "code",
   "execution_count": 260,
   "metadata": {},
   "outputs": [
    {
     "name": "stdout",
     "output_type": "stream",
     "text": [
      "MSE 0.5421850683897761\n",
      "R2 0.48459547603778774\n",
      "MSE 0.37633408722596345\n",
      "R2 0.591033793874605\n",
      "MSE 0.46460599738943875\n",
      "R2 0.5164060154951338\n",
      "MSE 0.30312676810929073\n",
      "R2 0.6209995303544691\n"
     ]
    }
   ],
   "source": [
    "from sklearn.linear_model import LinearRegression\n",
    "from sklearn.metrics import mean_squared_error, r2_score\n",
    "\n",
    "lin = [LinearRegression(), LinearRegression(), LinearRegression(), LinearRegression()]\n",
    "for a, b, c, d, model in zip(X_scaled_train, y_scaled_casual_train, X_scaled_test, y_scaled_casual_test, lin):\n",
    "    model.fit(a, b)\n",
    "    pred_scaled = model.predict(c)\n",
    "    #print(scaler_X.inverse_transform(a[0]))\n",
    "    print('MSE', mean_squared_error(d, pred_scaled))\n",
    "    print('R2', r2_score(d, pred_scaled))\n",
    "    \n"
   ]
  },
  {
   "cell_type": "code",
   "execution_count": null,
   "metadata": {},
   "outputs": [],
   "source": []
  },
  {
   "cell_type": "markdown",
   "metadata": {},
   "source": [
    "from sklearn.linear_model import SGDRegressor\n",
    "\n",
    "sgd = SGDRegressor(verbose=True,\n",
    "                   tol=1e-4, # stop training when |new_loss - loss| < 1e-4\n",
    "                   max_iter = 1000) # sklearn forces us to set max_iter\n",
    "sgd.fit(X_scaled_train, y_scaled_casual_train) # ravel converts 2-D array to 1-D vector\n",
    "\n",
    "pred_scaled_sgd = sgd.predict(X_scaled_test)\n",
    "\n",
    "print('MSE', mean_squared_error(y_scaled_casual_test, pred_scaled_sgd))\n",
    "print('R2', r2_score(y_scaled_casual_test, pred_scaled_sgd))"
   ]
  },
  {
   "cell_type": "code",
   "execution_count": null,
   "metadata": {},
   "outputs": [],
   "source": []
  },
  {
   "cell_type": "code",
   "execution_count": null,
   "metadata": {},
   "outputs": [],
   "source": []
  },
  {
   "cell_type": "markdown",
   "metadata": {},
   "source": [
    "from sklearn.linear_model import LinearRegression\n",
    "from sklearn.metrics import mean_squared_error, r2_score\n",
    "\n",
    "lin_regd = LinearRegression()\n",
    "lin_regd.fit(X_scaled_train_regd, y_scaled_regd_train)\n",
    "\n",
    "pred_scaled_regd = lin_regd.predict(X_scaled_test_regd)\n",
    "\n",
    "print('MSE', mean_squared_error(y_scaled_regd_test, pred_scaled_regd))\n",
    "print('R2', r2_score(y_scaled_regd_test, pred_scaled_regd))"
   ]
  },
  {
   "cell_type": "markdown",
   "metadata": {},
   "source": [
    "from sklearn.linear_model import SGDRegressor\n",
    "\n",
    "sgd_regd = SGDRegressor(verbose=True,\n",
    "                   tol=1e-4, # stop training when |new_loss - loss| < 1e-4\n",
    "                   max_iter = 1000) # sklearn forces us to set max_iter\n",
    "sgd_regd.fit(X_scaled_train_regd, y_scaled_regd_train.ravel()) # ravel converts 2-D array to 1-D vector\n",
    "\n",
    "pred_scaled_regd_sgd = sgd_regd.predict(X_scaled_test_regd)\n",
    "\n",
    "print('MSE', mean_squared_error(y_scaled_regd_test, pred_scaled_regd_sgd))\n",
    "print('R2', r2_score(y_scaled_regd_test, pred_scaled_regd_sgd))"
   ]
  },
  {
   "cell_type": "markdown",
   "metadata": {},
   "source": [
    "## Section 6: Evaluate metrics\n",
    "\n",
    "Write your code below to evaluate metrics for the trained algorithm(s).\n",
    "\n",
    "Feel free to plot the algorithm to visualize it, as appropriately."
   ]
  },
  {
   "cell_type": "code",
   "execution_count": 261,
   "metadata": {},
   "outputs": [
    {
     "data": {
      "text/html": [
       "<div>\n",
       "<style scoped>\n",
       "    .dataframe tbody tr th:only-of-type {\n",
       "        vertical-align: middle;\n",
       "    }\n",
       "\n",
       "    .dataframe tbody tr th {\n",
       "        vertical-align: top;\n",
       "    }\n",
       "\n",
       "    .dataframe thead th {\n",
       "        text-align: right;\n",
       "    }\n",
       "</style>\n",
       "<table border=\"1\" class=\"dataframe\">\n",
       "  <thead>\n",
       "    <tr style=\"text-align: right;\">\n",
       "      <th></th>\n",
       "      <th>instant</th>\n",
       "      <th>dteday</th>\n",
       "      <th>season</th>\n",
       "      <th>yr</th>\n",
       "      <th>mnth</th>\n",
       "      <th>hr</th>\n",
       "      <th>holiday</th>\n",
       "      <th>weekday</th>\n",
       "      <th>workingday</th>\n",
       "      <th>weathersit</th>\n",
       "      <th>temp</th>\n",
       "      <th>atemp</th>\n",
       "      <th>hum</th>\n",
       "      <th>windspeed</th>\n",
       "      <th>casual</th>\n",
       "      <th>registered</th>\n",
       "      <th>cnt</th>\n",
       "    </tr>\n",
       "  </thead>\n",
       "  <tbody>\n",
       "    <tr>\n",
       "      <th>0</th>\n",
       "      <td>1</td>\n",
       "      <td>1/1/2011</td>\n",
       "      <td>1</td>\n",
       "      <td>0</td>\n",
       "      <td>1</td>\n",
       "      <td>6</td>\n",
       "      <td>0</td>\n",
       "      <td>6</td>\n",
       "      <td>0</td>\n",
       "      <td>1</td>\n",
       "      <td>0.22</td>\n",
       "      <td>0.2727</td>\n",
       "      <td>0.80</td>\n",
       "      <td>0.0000</td>\n",
       "      <td>2</td>\n",
       "      <td>0</td>\n",
       "      <td>2</td>\n",
       "    </tr>\n",
       "    <tr>\n",
       "      <th>1</th>\n",
       "      <td>2</td>\n",
       "      <td>18/5/2011</td>\n",
       "      <td>2</td>\n",
       "      <td>0</td>\n",
       "      <td>5</td>\n",
       "      <td>0</td>\n",
       "      <td>0</td>\n",
       "      <td>3</td>\n",
       "      <td>1</td>\n",
       "      <td>2</td>\n",
       "      <td>0.54</td>\n",
       "      <td>0.5152</td>\n",
       "      <td>0.88</td>\n",
       "      <td>0.2239</td>\n",
       "      <td>8</td>\n",
       "      <td>15</td>\n",
       "      <td>23</td>\n",
       "    </tr>\n",
       "    <tr>\n",
       "      <th>2</th>\n",
       "      <td>3</td>\n",
       "      <td>3/5/2011</td>\n",
       "      <td>2</td>\n",
       "      <td>0</td>\n",
       "      <td>5</td>\n",
       "      <td>0</td>\n",
       "      <td>0</td>\n",
       "      <td>2</td>\n",
       "      <td>1</td>\n",
       "      <td>2</td>\n",
       "      <td>0.56</td>\n",
       "      <td>0.5303</td>\n",
       "      <td>0.83</td>\n",
       "      <td>0.2239</td>\n",
       "      <td>0</td>\n",
       "      <td>16</td>\n",
       "      <td>16</td>\n",
       "    </tr>\n",
       "    <tr>\n",
       "      <th>3</th>\n",
       "      <td>4</td>\n",
       "      <td>15/5/2012</td>\n",
       "      <td>2</td>\n",
       "      <td>1</td>\n",
       "      <td>5</td>\n",
       "      <td>14</td>\n",
       "      <td>0</td>\n",
       "      <td>2</td>\n",
       "      <td>1</td>\n",
       "      <td>2</td>\n",
       "      <td>0.64</td>\n",
       "      <td>0.6061</td>\n",
       "      <td>0.73</td>\n",
       "      <td>0.1940</td>\n",
       "      <td>39</td>\n",
       "      <td>145</td>\n",
       "      <td>184</td>\n",
       "    </tr>\n",
       "    <tr>\n",
       "      <th>4</th>\n",
       "      <td>5</td>\n",
       "      <td>16/5/2012</td>\n",
       "      <td>2</td>\n",
       "      <td>1</td>\n",
       "      <td>5</td>\n",
       "      <td>20</td>\n",
       "      <td>0</td>\n",
       "      <td>3</td>\n",
       "      <td>1</td>\n",
       "      <td>1</td>\n",
       "      <td>0.66</td>\n",
       "      <td>0.6212</td>\n",
       "      <td>0.65</td>\n",
       "      <td>0.2537</td>\n",
       "      <td>61</td>\n",
       "      <td>398</td>\n",
       "      <td>459</td>\n",
       "    </tr>\n",
       "    <tr>\n",
       "      <th>5</th>\n",
       "      <td>6</td>\n",
       "      <td>29/5/2012</td>\n",
       "      <td>2</td>\n",
       "      <td>1</td>\n",
       "      <td>5</td>\n",
       "      <td>12</td>\n",
       "      <td>0</td>\n",
       "      <td>2</td>\n",
       "      <td>1</td>\n",
       "      <td>1</td>\n",
       "      <td>0.80</td>\n",
       "      <td>0.7576</td>\n",
       "      <td>0.55</td>\n",
       "      <td>0.3284</td>\n",
       "      <td>56</td>\n",
       "      <td>181</td>\n",
       "      <td>237</td>\n",
       "    </tr>\n",
       "    <tr>\n",
       "      <th>6</th>\n",
       "      <td>7</td>\n",
       "      <td>3/12/2012</td>\n",
       "      <td>4</td>\n",
       "      <td>1</td>\n",
       "      <td>12</td>\n",
       "      <td>14</td>\n",
       "      <td>0</td>\n",
       "      <td>1</td>\n",
       "      <td>1</td>\n",
       "      <td>1</td>\n",
       "      <td>0.60</td>\n",
       "      <td>0.6212</td>\n",
       "      <td>0.53</td>\n",
       "      <td>0.0000</td>\n",
       "      <td>51</td>\n",
       "      <td>209</td>\n",
       "      <td>260</td>\n",
       "    </tr>\n",
       "    <tr>\n",
       "      <th>7</th>\n",
       "      <td>8</td>\n",
       "      <td>25/12/2012</td>\n",
       "      <td>1</td>\n",
       "      <td>1</td>\n",
       "      <td>12</td>\n",
       "      <td>20</td>\n",
       "      <td>1</td>\n",
       "      <td>2</td>\n",
       "      <td>0</td>\n",
       "      <td>2</td>\n",
       "      <td>0.32</td>\n",
       "      <td>0.3030</td>\n",
       "      <td>0.66</td>\n",
       "      <td>0.2836</td>\n",
       "      <td>11</td>\n",
       "      <td>29</td>\n",
       "      <td>40</td>\n",
       "    </tr>\n",
       "    <tr>\n",
       "      <th>8</th>\n",
       "      <td>9</td>\n",
       "      <td>4/2/2011</td>\n",
       "      <td>1</td>\n",
       "      <td>0</td>\n",
       "      <td>2</td>\n",
       "      <td>8</td>\n",
       "      <td>0</td>\n",
       "      <td>5</td>\n",
       "      <td>1</td>\n",
       "      <td>1</td>\n",
       "      <td>0.14</td>\n",
       "      <td>0.1515</td>\n",
       "      <td>0.74</td>\n",
       "      <td>0.1343</td>\n",
       "      <td>3</td>\n",
       "      <td>217</td>\n",
       "      <td>220</td>\n",
       "    </tr>\n",
       "  </tbody>\n",
       "</table>\n",
       "</div>"
      ],
      "text/plain": [
       "   instant      dteday  season  yr  mnth  hr  holiday  weekday  workingday  \\\n",
       "0        1    1/1/2011       1   0     1   6        0        6           0   \n",
       "1        2   18/5/2011       2   0     5   0        0        3           1   \n",
       "2        3    3/5/2011       2   0     5   0        0        2           1   \n",
       "3        4   15/5/2012       2   1     5  14        0        2           1   \n",
       "4        5   16/5/2012       2   1     5  20        0        3           1   \n",
       "5        6   29/5/2012       2   1     5  12        0        2           1   \n",
       "6        7   3/12/2012       4   1    12  14        0        1           1   \n",
       "7        8  25/12/2012       1   1    12  20        1        2           0   \n",
       "8        9    4/2/2011       1   0     2   8        0        5           1   \n",
       "\n",
       "   weathersit  temp   atemp   hum  windspeed  casual  registered  cnt  \n",
       "0           1  0.22  0.2727  0.80     0.0000       2           0    2  \n",
       "1           2  0.54  0.5152  0.88     0.2239       8          15   23  \n",
       "2           2  0.56  0.5303  0.83     0.2239       0          16   16  \n",
       "3           2  0.64  0.6061  0.73     0.1940      39         145  184  \n",
       "4           1  0.66  0.6212  0.65     0.2537      61         398  459  \n",
       "5           1  0.80  0.7576  0.55     0.3284      56         181  237  \n",
       "6           1  0.60  0.6212  0.53     0.0000      51         209  260  \n",
       "7           2  0.32  0.3030  0.66     0.2836      11          29   40  \n",
       "8           1  0.14  0.1515  0.74     0.1343       3         217  220  "
      ]
     },
     "execution_count": 261,
     "metadata": {},
     "output_type": "execute_result"
    }
   ],
   "source": [
    "df_predict = pd.read_csv('C:\\\\courses\\\\data\\\\bike-sharing\\\\hour_Test.csv',na_values=['?', 'nan'])\n",
    "df_predict"
   ]
  },
  {
   "cell_type": "code",
   "execution_count": 262,
   "metadata": {},
   "outputs": [],
   "source": [
    "X_predict = df_predict.loc[:,casual_columns]"
   ]
  },
  {
   "cell_type": "markdown",
   "metadata": {},
   "source": [
    "[df2[(df['hr']>=0) & (df['hr']<4)],df2[(df['hr']>=4) & (df['hr']<9)],df2[(df['hr']>=9) & (df['hr']<20)]\n",
    "     ,df2[(df['hr']>=20)]]"
   ]
  },
  {
   "cell_type": "code",
   "execution_count": 263,
   "metadata": {},
   "outputs": [],
   "source": [
    "np.reshape?"
   ]
  },
  {
   "cell_type": "code",
   "execution_count": 264,
   "metadata": {},
   "outputs": [
    {
     "data": {
      "text/plain": [
       "StandardScaler(copy=True, with_mean=True, with_std=True)"
      ]
     },
     "execution_count": 264,
     "metadata": {},
     "output_type": "execute_result"
    }
   ],
   "source": [
    "scaler_X[3]"
   ]
  },
  {
   "cell_type": "code",
   "execution_count": 265,
   "metadata": {},
   "outputs": [
    {
     "name": "stdout",
     "output_type": "stream",
     "text": [
      "[[2.23189396]]\n",
      "[[7.67067278]]\n",
      "[[8.13790264]]\n",
      "[[46.52242676]]\n",
      "[[44.30917557]]\n",
      "[[75.56469239]]\n",
      "[[55.56915225]]\n",
      "[[24.7837527]]\n",
      "[[10.74727565]]\n"
     ]
    }
   ],
   "source": [
    "i = 0\n",
    "a = X_predict.shape\n",
    "row = [[]]\n",
    "while i < a[0]:\n",
    "    row[0] = (X_predict.iloc[i])\n",
    "    #print(row[0])\n",
    "    hour = row[0][0]\n",
    "    if(hour<4):\n",
    "        index = 0\n",
    "    elif(hour < 9):\n",
    "        index = 1\n",
    "    elif(hour < 20):\n",
    "        index = 2\n",
    "    else:\n",
    "        index = 3\n",
    "    #print(index)\n",
    "    \n",
    "    #print(np.reshape(row, (-1, 5)))\n",
    "    test_scaled = scaler_X[index].transform(row)\n",
    "    y_pred = lin[index].predict(test_scaled)\n",
    "    print(scaler_y[index].inverse_transform(y_pred))\n",
    "    i+=1"
   ]
  },
  {
   "cell_type": "markdown",
   "metadata": {},
   "source": [
    "X_scaled_predict = scaler_X.transform(X_predict)\n",
    "X_scaled_predict.shape"
   ]
  },
  {
   "cell_type": "markdown",
   "metadata": {},
   "source": [
    "y_pred1_casual_lin = lin.predict(X_scaled_predict)\n",
    "y_pred1_casual_lin.shape"
   ]
  },
  {
   "cell_type": "markdown",
   "metadata": {},
   "source": [
    "#print(scaler_y.inverse_transform(y_pred1_lin))\n",
    "print(y_pred1_casual_lin)"
   ]
  },
  {
   "cell_type": "markdown",
   "metadata": {},
   "source": [
    "y_pred1_casual_sgd = sgd.predict(X_scaled_predict)"
   ]
  },
  {
   "cell_type": "markdown",
   "metadata": {},
   "source": [
    "#print(scaler_y.inverse_transform(y_pred1_sgd))\n",
    "print(y_pred1_casual_sgd)"
   ]
  },
  {
   "cell_type": "code",
   "execution_count": null,
   "metadata": {},
   "outputs": [],
   "source": []
  },
  {
   "cell_type": "code",
   "execution_count": null,
   "metadata": {},
   "outputs": [],
   "source": []
  },
  {
   "cell_type": "markdown",
   "metadata": {},
   "source": [
    "X_predict = df_predict.loc[:,regd_columns]\n",
    "#X_predict.drop(['yr'],axis=1,inplace=True)\n",
    "#X_predict.drop(['yr','season','holiday','weekday','weathersit'],axis=1,inplace=True)"
   ]
  },
  {
   "cell_type": "markdown",
   "metadata": {},
   "source": [
    "X_scaled_predict = scaler_X_regd.transform(X_predict)"
   ]
  },
  {
   "cell_type": "markdown",
   "metadata": {},
   "source": [
    "y_pred1_regd_lin = lin_regd.predict(X_scaled_predict)"
   ]
  },
  {
   "cell_type": "markdown",
   "metadata": {},
   "source": [
    "print(scaler_y_regd.inverse_transform(y_pred1_regd_lin))\n",
    "#print(y_pred1_regd_lin)"
   ]
  },
  {
   "cell_type": "markdown",
   "metadata": {},
   "source": [
    "## Section 7: Observations and analysis\n",
    "\n",
    "Answer the following questions:\n",
    "1. How did you measure the algorithm? Specify the metrics you used.\n",
    "\n",
    "2. What is the outcome of the measurement? Explain the interpretation of the metrics.\n",
    "\n",
    "  - Is there overfitting or underfitting?\n",
    "  - Is there low accuracy or high error? If so, why do you think this is the case?\n",
    "\n",
    "3. What improvements do you propose? \n",
    "\n",
    "4. What is the most challenging part of this project?"
   ]
  },
  {
   "cell_type": "code",
   "execution_count": null,
   "metadata": {},
   "outputs": [],
   "source": []
  }
 ],
 "metadata": {
  "kernelspec": {
   "display_name": "Python 3",
   "language": "python",
   "name": "python3"
  },
  "language_info": {
   "codemirror_mode": {
    "name": "ipython",
    "version": 3
   },
   "file_extension": ".py",
   "mimetype": "text/x-python",
   "name": "python",
   "nbconvert_exporter": "python",
   "pygments_lexer": "ipython3",
   "version": "3.6.5"
  }
 },
 "nbformat": 4,
 "nbformat_minor": 2
}
